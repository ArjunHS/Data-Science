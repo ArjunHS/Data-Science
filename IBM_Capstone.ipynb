{
 "cells": [
  {
   "cell_type": "markdown",
   "id": "5e57a880-d88e-40b8-9785-ddc3183905ad",
   "metadata": {
    "tags": []
   },
   "source": [
    "## IBM Capstone Project"
   ]
  },
  {
   "cell_type": "code",
   "execution_count": 3,
   "id": "4056cebc-f10e-4ac0-9b1e-48a3b9e74b8d",
   "metadata": {},
   "outputs": [],
   "source": [
    "import pandas as pd\n",
    "import numpy as np"
   ]
  },
  {
   "cell_type": "code",
   "execution_count": 4,
   "id": "d5a72935-a139-4a1f-bcb7-2bd583557f8d",
   "metadata": {},
   "outputs": [
    {
     "name": "stdout",
     "output_type": "stream",
     "text": [
      "Hello Capstone Project Course!\n"
     ]
    }
   ],
   "source": [
    "print(\"Hello Capstone Project Course!\")"
   ]
  },
  {
   "cell_type": "code",
   "execution_count": null,
   "id": "22edc02f-aeae-4a22-bc63-36254d2d4523",
   "metadata": {},
   "outputs": [],
   "source": []
  }
 ],
 "metadata": {
  "kernelspec": {
   "display_name": "Python 3",
   "language": "python",
   "name": "python3"
  },
  "language_info": {
   "codemirror_mode": {
    "name": "ipython",
    "version": 3
   },
   "file_extension": ".py",
   "mimetype": "text/x-python",
   "name": "python",
   "nbconvert_exporter": "python",
   "pygments_lexer": "ipython3",
   "version": "3.8.5"
  }
 },
 "nbformat": 4,
 "nbformat_minor": 5
}
